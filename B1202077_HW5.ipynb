{
  "nbformat": 4,
  "nbformat_minor": 0,
  "metadata": {
    "colab": {
      "provenance": []
    },
    "kernelspec": {
      "name": "python3",
      "display_name": "Python 3"
    },
    "language_info": {
      "name": "python"
    }
  },
  "cells": [
    {
      "cell_type": "code",
      "execution_count": 5,
      "metadata": {
        "colab": {
          "base_uri": "https://localhost:8080/"
        },
        "id": "h0uLl157Pce5",
        "outputId": "5584c6aa-e715-4e78-b0f9-3059ca4f95bd"
      },
      "outputs": [
        {
          "output_type": "stream",
          "name": "stdout",
          "text": [
            "         *\n",
            "        ***\n",
            "       *****\n",
            "      *******\n",
            "     *********\n",
            "    ***********\n",
            "   *************\n",
            "  ***************\n",
            " *****************\n",
            "        ***         \n",
            "        ***         \n",
            "        ***         \n",
            "        ***         \n",
            "        ***         \n"
          ]
        }
      ],
      "source": [
        "a = 9\n",
        "for i in range(a):\n",
        "    print((' ' * (a - i)) + ('*' * ((2 * i) + 1)))\n",
        "for b in range(5):\n",
        "  print(f'{\"***\":^20s}')"
      ]
    },
    {
      "cell_type": "code",
      "source": [
        "import random\n",
        "answer = random.sample(range(1, 10), 4)\n",
        "print(answer)\n",
        "a = b = n = 0\n",
        "num = 0\n",
        "while a!=4:\n",
        "    num += 1\n",
        "    a = b = n = 0\n",
        "    user = list(input('輸入四個數字:'))\n",
        "    while  len(user)>4:\n",
        "      user = list(input('輸入數字過多，請輸入四個數字:'))\n",
        "\n",
        "\n",
        "    for i in user:\n",
        "      if int(user[n]) == answer[n]:\n",
        "          a += 1\n",
        "      else:\n",
        "          if int(i) in answer:\n",
        "                b += 1\n",
        "      n += 1\n",
        "    output = ','.join(user).replace(',','')\n",
        "    print(f'{output}: {a}A{b}B')\n",
        "print(f'答對了！總共猜了 {num} 次')"
      ],
      "metadata": {
        "colab": {
          "base_uri": "https://localhost:8080/"
        },
        "id": "wSQGYUIQToLO",
        "outputId": "66b5474f-b15a-4f40-b938-6e1b005478ff"
      },
      "execution_count": null,
      "outputs": [
        {
          "output_type": "stream",
          "name": "stdout",
          "text": [
            "[4, 6, 2, 3]\n",
            "輸入四個數字:5659\n",
            "5659: 1A0B\n",
            "輸入四個數字:65487\n",
            "輸入數字過多，請輸入四個數字:654987496514\n",
            "輸入數字過多，請輸入四個數字:6546549874968541654684\n",
            "輸入數字過多，請輸入四個數字:5465\n",
            "5465: 0A2B\n",
            "輸入四個數字:4623\n",
            "4623: 4A0B\n",
            "答對了！總共猜了 3 次\n"
          ]
        }
      ]
    }
  ]
}